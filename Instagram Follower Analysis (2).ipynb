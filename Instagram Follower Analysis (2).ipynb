{
 "cells": [
  {
   "cell_type": "markdown",
   "metadata": {},
   "source": [
    "Instagram Bot to Scrape Data\n",
    "   Contributer : edwardstephendrood@gmail.com, kfardeen7890@gmail.com, sanketchordiya89@gmail.com\n",
    "\n"
   ]
  },
  {
   "cell_type": "code",
   "execution_count": null,
   "metadata": {},
   "outputs": [],
   "source": [
    "import time\n",
    "import re\n",
    "import numpy as np\n",
    "import pandas as pd\n",
    "import matplotlib.pyplot as plt\n",
    "from urllib.request import urlopen\n",
    "from bs4 import BeautifulSoup\n",
    "from selenium import webdriver\n",
    "import json\n",
    "from selenium.webdriver.common.keys import Keys\n",
    "from selenium.webdriver.common.by import By\n",
    "from selenium.webdriver.support.ui import WebDriverWait\n",
    "from selenium.webdriver.support import expected_conditions as EC\n",
    "from selenium.webdriver import ActionChains"
   ]
  },
  {
   "cell_type": "code",
   "execution_count": 6,
   "metadata": {},
   "outputs": [],
   "source": [
    "# Install geckodriver if you are using Firefox\n",
    "# INstall Chromedriver if you are using Chrome\n",
    "\n",
    "browser=webdriver.Firefox()"
   ]
  },
  {
   "cell_type": "markdown",
   "metadata": {},
   "source": [
    "Collecting Name of Usernames"
   ]
  },
  {
   "cell_type": "code",
   "execution_count": 10,
   "metadata": {},
   "outputs": [],
   "source": [
    "# Contributer : edwardstephendrood@gmail.com,kfardeen7890@gmail.com\n",
    "browser.get('https://www.instagram.com/') # Opening Instagram\n",
    "\n",
    "\"\"\"name=list(usernames['user'])\n",
    "\n",
    "name=list(pd.Series(name).unique())\n",
    "\n",
    "usernames=pd.DataFrame({'user':name})\"\"\"\n",
    "\n",
    "\n",
    "searchbox=browser.find_element_by_xpath('//*[@id=\"react-root\"]/section/nav/div[2]/div/div/div[2]/input')\n",
    "search('*') # * replaces any name, alphabet,etc\n",
    "\n",
    "a=browser.find_element_by_class_name('fuqBx')\n",
    "a=a.find_elements_by_class_name('Fy4o8')\n",
    "for i in a:\n",
    "    name.append(i.text)\n",
    "\n",
    "time.sleep(0.2)\n",
    "name=list(pd.Series(name).unique())\n",
    "\n",
    "len(name)"
   ]
  },
  {
   "cell_type": "markdown",
   "metadata": {},
   "source": [
    "Collecting Data\n",
    "Defining Important Functions"
   ]
  },
  {
   "cell_type": "code",
   "execution_count": 11,
   "metadata": {},
   "outputs": [],
   "source": [
    "# Contributer: edwardstephendrood@gmail.com,kfardeen8=7890@gmail.com\n",
    "def search(name): #provide email or number \n",
    "    #searchbox = WebDriverWait(browser, 10).until(EC.visibility_of_element_located((By.XPATH, \"//input[@placeholder='Search']\")))\n",
    "    searchbox=browser.find_element_by_xpath('//*[@id=\"react-root\"]/section/nav/div[2]/div/div/div[2]/input')\n",
    "    searchbox.clear()\n",
    "    searchbox.send_keys(name)\n",
    "    time.sleep(.001)\n",
    "\n",
    "def get_info(): # Function for Getting Account Info\n",
    "    \n",
    "    user=browser.find_element_by_xpath('//*[@id=\"react-root\"]/section/main/div/header/section/div[1]//h1').text\n",
    "    posts=browser.find_elements_by_css_selector(\"span.g47SY\")[0].text\n",
    "    following=browser.find_elements_by_css_selector(\"span.g47SY\")[1].text                                      \n",
    "    followers=browser.find_elements_by_css_selector(\"span.g47SY\")[2].text\n",
    "    #bio=browser.find_element_by_xpath('//*[@id=\"react-root\"]/section/main/div/header/section/div[2]//span').text\n",
    "    \n",
    "                                   \n",
    "    \"\"\"posts=re.findall(r\"[0-9]+.[0-9]\",string=posts)[0]\n",
    "    following=re.findall(r\"[0-9]+.[0-9]\",string=following)[0]\n",
    "    followers=re.findall(r\"[0-9]+.[0-9]\",string=followers)[0]\n",
    "    \"\"\"\n",
    "    \"\"\"bio=re.sub(\"[\\n]\",repl=' ',string=bio)\n",
    "    bio=''.join(bio)\"\"\"\n",
    "    \n",
    "    button=browser.find_element_by_css_selector('button')\n",
    "    if button.text=='':\n",
    "        button=browser.find_elements_by_css_selector('button')[1]\n",
    "        if (button.text == 'Follow'):\n",
    "            time.sleep(0.4)\n",
    "            temp=np.array([user,posts,following,followers])\n",
    "            return temp\n",
    "        else:\n",
    "            return 0\n",
    "    else:\n",
    "        if (button.text != 'Following'):\n",
    "            time.sleep(0.4)\n",
    "            temp=np.array([user,posts,following,followers])\n",
    "            return temp\n",
    "        else:\n",
    "            return 0\n",
    "    #browser.find_elements_by_css_selector('button')[1].click()\n",
    "\n",
    "\n",
    "\n"
   ]
  },
  {
   "cell_type": "markdown",
   "metadata": {},
   "source": [
    "Scraping Data\n",
    "Contributer edwardstephendrood@gmail.com, sanketchordiya89@gmail.com, kfardeen7890@gmail.com\n"
   ]
  },
  {
   "cell_type": "code",
   "execution_count": null,
   "metadata": {},
   "outputs": [],
   "source": [
    "train=pd.DataFrame()\n",
    "\n",
    "In [ ]:\n",
    "\n",
    "# Since Instagram is blocking to automate searching for accounts,we have to use google search\n",
    "usernames=name\n",
    "for i in range(len(usernames)):\n",
    "    train.to_csv('train.csv',index=False)\n",
    "    \n",
    "    # google search the account\n",
    "    browser.get('http://www.google.com')\n",
    "    \n",
    "    google_search=browser.find_element_by_name('q') # Finding Google Searchbox\n",
    "    button=browser.find_element_by_css_selector('input') # Finding Search Button\n",
    "    \n",
    "    google_search.clear()\n",
    "   \n",
    "    google_search.send_keys(''.join(re.findall(r'[\\w]',string=usernames.iloc[i][0]))+' instagram')\n",
    "    # Searching User names\n",
    "    time.sleep(2)\n",
    "    google_search.send_keys(Keys.ENTER) # pressing Enter\n",
    "    links=browser.find_elements_by_class_name('iUh30')\n",
    "    \n",
    "    for j in range(len(links)):\n",
    "        urls=browser.find_elements_by_class_name('iUh30')\n",
    "        result=urls[j].text\n",
    "        result=result.split('/') \n",
    "        \n",
    "        if ('www.instagram.com' in result) and (len(result) >4) and ('hashtag' not in browser.find_elements_by_class_name('LC20lb')[j].text.split(' ')):\n",
    "            urls[j].click()\n",
    "            \n",
    "            # Logging In\n",
    "            email='' #email or phone no.\n",
    "            password= '' # Pawssword\n",
    "            browser.find_element_by_css_selector('button').click()\n",
    "            time.sleep(1)\n",
    "            email_Input=browser.find_elements_by_css_selector('form input')[0]\n",
    "            pass_Input=browser.find_elements_by_css_selector('form input')[1]\n",
    "\n",
    "            email_Input.send_keys(email)\n",
    "            pass_Input.send_keys(password)\n",
    "            pass_Input.send_keys(Keys.ENTER)\n",
    "            # This should be used for once,then remove the Logging in section or you can remove section now\n",
    "            # and manually go to Instagram.com and log in yourself\n",
    "            \n",
    "            \n",
    "            user=browser.find_element_by_xpath('//*[@id=\"react-root\"]/section/main/div/header/section/div[1]//h1').text\n",
    "            if user not in train['user'].unique():\n",
    "                # Getting Data\n",
    "                a=get_info()\n",
    "\n",
    "                # Adding to the main dataset\n",
    "                if a!=0:\n",
    "                    train=pd.concat([train,pd.DataFrame({'user':[a[0]],'posts':[a[1]],\n",
    "                                                         'followings':[a[2]],'followers':[a[3]]\n",
    "                                                        },index=[i])])\n",
    "                    time.sleep(1)\n",
    "            browser.back()\n",
    "\n",
    "# The above code gives error when it finds no account with that specific usernames. So manual supervision is needed.\n",
    "\n"
   ]
  },
  {
   "cell_type": "markdown",
   "metadata": {},
   "source": [
    "Cleaning The DataSet"
   ]
  },
  {
   "cell_type": "code",
   "execution_count": 5,
   "metadata": {},
   "outputs": [],
   "source": [
    "# The followings column has some m or k words , e.g 3.2m,80k\n",
    "num=train['followings'].apply(lambda x: float(re.sub('[a-z,천]',repl=\"\",string=x)))\n",
    "st=train['followings'].apply(lambda x: x[-1])\n",
    "th=st[st=='k'].index\n",
    "mi=st[st=='m'].index\n",
    "un=st[st=='천'].index\n",
    "train=train[(train.index !=un[0]) | (train.index!=un[1])]\n",
    "for i in th:\n",
    "    num[i]=num[i]**1000\n",
    "for i in mi:\n",
    "    num[i]=num[i]**1000000\n",
    "train['followings']=num"
   ]
  },
  {
   "cell_type": "code",
   "execution_count": null,
   "metadata": {},
   "outputs": [],
   "source": [
    "# The followers column has some m or k words , e.g 3.2m,80k\n",
    "num=train['followers'].apply(lambda x: float(re.sub('[a-z,천]',repl=\"\",string=x)))\n",
    "st=train['followers'].apply(lambda x: x[-1])\n",
    "th=st[st=='k'].index\n",
    "mi=st[st=='m'].index\n",
    "#un=st[st=='천'].index\n",
    "#train=train[(train.index !=un[0]) | (train.index!=un[1])]\n",
    "for i in th:\n",
    "    num[i]=num[i]**1000\n",
    "for i in mi:\n",
    "    num[i]=num[i]**1000000\n",
    "train['followers']=num"
   ]
  },
  {
   "cell_type": "code",
   "execution_count": 9,
   "metadata": {},
   "outputs": [],
   "source": [
    "num=train['posts'].apply(lambda x: float(re.sub('[a-z,천]',repl=\"\",string=x)))\n",
    "st=train['posts'].apply(lambda x: x[-1])\n",
    "th=st[st=='k'].index\n",
    "mi=st[st=='m'].index\n",
    "#un=st[st=='천'].index\n",
    "#train=train[(train.index !=un[0]) | (train.index!=un[1])]\n",
    "for i in th:\n",
    "    num[i]=num[i]**1000\n",
    "for i in mi:\n",
    "    num[i]=num[i]**1000000\n",
    "train['posts']=num"
   ]
  },
  {
   "cell_type": "code",
   "execution_count": null,
   "metadata": {},
   "outputs": [],
   "source": [
    "train.to_csv('train_cleaned.csv',index=False) # Saving The Dataset"
   ]
  }
 ],
 "metadata": {
  "kernelspec": {
   "display_name": "Python 3",
   "language": "python",
   "name": "python3"
  },
  "language_info": {
   "codemirror_mode": {
    "name": "ipython",
    "version": 3
   },
   "file_extension": ".py",
   "mimetype": "text/x-python",
   "name": "python",
   "nbconvert_exporter": "python",
   "pygments_lexer": "ipython3",
   "version": "3.7.1"
  }
 },
 "nbformat": 4,
 "nbformat_minor": 2
}
